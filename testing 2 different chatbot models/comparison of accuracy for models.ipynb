{
 "cells": [
  {
   "cell_type": "code",
   "execution_count": 1,
   "metadata": {},
   "outputs": [],
   "source": [
    "import pyforest"
   ]
  },
  {
   "cell_type": "code",
   "execution_count": 2,
   "metadata": {},
   "outputs": [],
   "source": [
    "df=pd.read_excel('comparison_chatbot_models.xlsx')"
   ]
  },
  {
   "cell_type": "code",
   "execution_count": 3,
   "metadata": {},
   "outputs": [
    {
     "data": {
      "text/html": [
       "<div>\n",
       "<style scoped>\n",
       "    .dataframe tbody tr th:only-of-type {\n",
       "        vertical-align: middle;\n",
       "    }\n",
       "\n",
       "    .dataframe tbody tr th {\n",
       "        vertical-align: top;\n",
       "    }\n",
       "\n",
       "    .dataframe thead th {\n",
       "        text-align: right;\n",
       "    }\n",
       "</style>\n",
       "<table border=\"1\" class=\"dataframe\">\n",
       "  <thead>\n",
       "    <tr style=\"text-align: right;\">\n",
       "      <th></th>\n",
       "      <th>Topic</th>\n",
       "      <th>Type of question</th>\n",
       "      <th>Keras/TensorFlow</th>\n",
       "      <th>Chatterbot</th>\n",
       "    </tr>\n",
       "  </thead>\n",
       "  <tbody>\n",
       "    <tr>\n",
       "      <td>0</td>\n",
       "      <td>greeting</td>\n",
       "      <td>same from file</td>\n",
       "      <td>1</td>\n",
       "      <td>1</td>\n",
       "    </tr>\n",
       "    <tr>\n",
       "      <td>1</td>\n",
       "      <td>greeting</td>\n",
       "      <td>slightly diff</td>\n",
       "      <td>0</td>\n",
       "      <td>0</td>\n",
       "    </tr>\n",
       "    <tr>\n",
       "      <td>2</td>\n",
       "      <td>greeting</td>\n",
       "      <td>completely diff</td>\n",
       "      <td>1</td>\n",
       "      <td>0</td>\n",
       "    </tr>\n",
       "    <tr>\n",
       "      <td>3</td>\n",
       "      <td>greeting</td>\n",
       "      <td>1 typo</td>\n",
       "      <td>0</td>\n",
       "      <td>0</td>\n",
       "    </tr>\n",
       "    <tr>\n",
       "      <td>4</td>\n",
       "      <td>greeting</td>\n",
       "      <td>2 typos</td>\n",
       "      <td>0</td>\n",
       "      <td>0</td>\n",
       "    </tr>\n",
       "  </tbody>\n",
       "</table>\n",
       "</div>"
      ],
      "text/plain": [
       "      Topic Type of question  Keras/TensorFlow  Chatterbot\n",
       "0  greeting   same from file                 1           1\n",
       "1  greeting    slightly diff                 0           0\n",
       "2  greeting  completely diff                 1           0\n",
       "3  greeting           1 typo                 0           0\n",
       "4  greeting          2 typos                 0           0"
      ]
     },
     "execution_count": 3,
     "metadata": {},
     "output_type": "execute_result"
    }
   ],
   "source": [
    "df.head()"
   ]
  },
  {
   "cell_type": "markdown",
   "metadata": {},
   "source": [
    "k=sns.catplot(x='Type of question', y='Keras/TensorFlow', data=df, kind='bar',ci=None)\n",
    "k.set_xticklabels(rotation=30)"
   ]
  },
  {
   "cell_type": "markdown",
   "metadata": {},
   "source": [
    "c=sns.catplot(x='Type of question', y='Chatterbot', data=df, kind='bar',ci=None)\n",
    "c.set_xticklabels(rotation=30)"
   ]
  },
  {
   "cell_type": "markdown",
   "metadata": {},
   "source": [
    "c=sns.catplot(x='Chatterbot', y='Type of question', data=df, kind='bar',ci=None)\n",
    "c.set_xticklabels(rotation=30)"
   ]
  },
  {
   "cell_type": "code",
   "execution_count": 4,
   "metadata": {},
   "outputs": [
    {
     "data": {
      "text/plain": [
       "<Figure size 450x500 with 1 Axes>"
      ]
     },
     "metadata": {},
     "output_type": "display_data"
    }
   ],
   "source": [
    "import seaborn as sns\n",
    "import matplotlib.pyplot as plt\n",
    "from  matplotlib.ticker import PercentFormatter\n",
    "#titanic = sns.load_dataset(\"titanic\")\n",
    "\n",
    "g = sns.catplot(x='Type of question', y='Chatterbot', data=df, saturation=.5,\n",
    "                 kind=\"bar\", ci=None, aspect=.9)\n",
    "g.set_xticklabels(rotation=30)\n",
    "for ax in g.axes.flat:\n",
    "    ax.yaxis.set_major_formatter(PercentFormatter(1))\n",
    "plt.title(\"%Accurate answers from test questions for Chatterbot model \")\n",
    "plt.grid(which='major', axis='y', color='gray', linestyle='--', linewidth=1)\n",
    "plt.show()"
   ]
  },
  {
   "cell_type": "code",
   "execution_count": 5,
   "metadata": {},
   "outputs": [
    {
     "data": {
      "image/png": "[encoded data removed]",
      "text/plain": [
       "<Figure size 324x360 with 1 Axes>"
      ]
     },
     "metadata": {
      "needs_background": "light"
     },
     "output_type": "display_data"
    }
   ],
   "source": [
    "import seaborn as sns\n",
    "import matplotlib.pyplot as plt\n",
    "from  matplotlib.ticker import PercentFormatter\n",
    "#titanic = sns.load_dataset(\"titanic\")\n",
    "\n",
    "k = sns.catplot(x='Type of question', y='Keras/TensorFlow', data=df, saturation=.5,\n",
    "                 kind=\"bar\", ci=None, aspect=.9)\n",
    "k.set_xticklabels(rotation=30)\n",
    "for ax in k.axes.flat:\n",
    "    ax.yaxis.set_major_formatter(PercentFormatter(1))\n",
    "plt.title(\"%Accurate answers from test questions for Keras model \")\n",
    "plt.grid(which='major', axis='y', color='gray', linestyle='--', linewidth=1)\n",
    "plt.show()"
   ]
  },
  {
   "cell_type": "markdown",
   "metadata": {},
   "source": [
    "c=sns.catplot(x='Keras/TensorFlow', y='Type of question', data=df, kind='bar',ci=None)\n",
    "c.set_xticklabels(rotation=30)"
   ]
  },
  {
   "cell_type": "code",
   "execution_count": 6,
   "metadata": {},
   "outputs": [
    {
     "data": {
      "text/html": [
       "<div>\n",
       "<style scoped>\n",
       "    .dataframe tbody tr th:only-of-type {\n",
       "        vertical-align: middle;\n",
       "    }\n",
       "\n",
       "    .dataframe tbody tr th {\n",
       "        vertical-align: top;\n",
       "    }\n",
       "\n",
       "    .dataframe thead th {\n",
       "        text-align: right;\n",
       "    }\n",
       "</style>\n",
       "<table border=\"1\" class=\"dataframe\">\n",
       "  <thead>\n",
       "    <tr style=\"text-align: right;\">\n",
       "      <th></th>\n",
       "      <th>Keras/TensorFlow</th>\n",
       "      <th>Chatterbot</th>\n",
       "    </tr>\n",
       "    <tr>\n",
       "      <th>Topic</th>\n",
       "      <th></th>\n",
       "      <th></th>\n",
       "    </tr>\n",
       "  </thead>\n",
       "  <tbody>\n",
       "    <tr>\n",
       "      <td>change payment method</td>\n",
       "      <td>6</td>\n",
       "      <td>2</td>\n",
       "    </tr>\n",
       "    <tr>\n",
       "      <td>find invoice</td>\n",
       "      <td>6</td>\n",
       "      <td>3</td>\n",
       "    </tr>\n",
       "    <tr>\n",
       "      <td>greeting</td>\n",
       "      <td>2</td>\n",
       "      <td>1</td>\n",
       "    </tr>\n",
       "    <tr>\n",
       "      <td>help</td>\n",
       "      <td>6</td>\n",
       "      <td>3</td>\n",
       "    </tr>\n",
       "    <tr>\n",
       "      <td>identification</td>\n",
       "      <td>5</td>\n",
       "      <td>3</td>\n",
       "    </tr>\n",
       "    <tr>\n",
       "      <td>input correct amount</td>\n",
       "      <td>4</td>\n",
       "      <td>3</td>\n",
       "    </tr>\n",
       "    <tr>\n",
       "      <td>input correct details</td>\n",
       "      <td>5</td>\n",
       "      <td>3</td>\n",
       "    </tr>\n",
       "    <tr>\n",
       "      <td>input correct due date</td>\n",
       "      <td>5</td>\n",
       "      <td>2</td>\n",
       "    </tr>\n",
       "    <tr>\n",
       "      <td>invoice has wrong amount</td>\n",
       "      <td>3</td>\n",
       "      <td>2</td>\n",
       "    </tr>\n",
       "    <tr>\n",
       "      <td>invoice has wrong details</td>\n",
       "      <td>6</td>\n",
       "      <td>3</td>\n",
       "    </tr>\n",
       "    <tr>\n",
       "      <td>invoice has wrong due date</td>\n",
       "      <td>4</td>\n",
       "      <td>3</td>\n",
       "    </tr>\n",
       "    <tr>\n",
       "      <td>invoice is wrong</td>\n",
       "      <td>6</td>\n",
       "      <td>2</td>\n",
       "    </tr>\n",
       "    <tr>\n",
       "      <td>pay invoice</td>\n",
       "      <td>6</td>\n",
       "      <td>3</td>\n",
       "    </tr>\n",
       "    <tr>\n",
       "      <td>talk to a human agent</td>\n",
       "      <td>6</td>\n",
       "      <td>3</td>\n",
       "    </tr>\n",
       "    <tr>\n",
       "      <td>thank you/goodbye</td>\n",
       "      <td>6</td>\n",
       "      <td>2</td>\n",
       "    </tr>\n",
       "  </tbody>\n",
       "</table>\n",
       "</div>"
      ],
      "text/plain": [
       "                            Keras/TensorFlow  Chatterbot\n",
       "Topic                                                   \n",
       "change payment method                      6           2\n",
       "find invoice                               6           3\n",
       "greeting                                   2           1\n",
       "help                                       6           3\n",
       "identification                             5           3\n",
       "input correct amount                       4           3\n",
       "input correct details                      5           3\n",
       "input correct due date                     5           2\n",
       "invoice has wrong amount                   3           2\n",
       "invoice has wrong details                  6           3\n",
       "invoice has wrong due date                 4           3\n",
       "invoice is wrong                           6           2\n",
       "pay invoice                                6           3\n",
       "talk to a human agent                      6           3\n",
       "thank you/goodbye                          6           2"
      ]
     },
     "execution_count": 6,
     "metadata": {},
     "output_type": "execute_result"
    }
   ],
   "source": [
    "df.groupby('Topic').sum()"
   ]
  },
  {
   "cell_type": "markdown",
   "metadata": {},
   "source": [
    "k1=sns.catplot(x='Keras/TensorFlow', y='Topic', data=df, kind='bar')\n",
    "c.set_xticklabels(rotation=30)"
   ]
  },
  {
   "cell_type": "code",
   "execution_count": 7,
   "metadata": {},
   "outputs": [
    {
     "data": {
      "image/png": "[encoded data removed]",
      "text/plain": [
       "<Figure size 324x360 with 1 Axes>"
      ]
     },
     "metadata": {
      "needs_background": "light"
     },
     "output_type": "display_data"
    }
   ],
   "source": [
    "import seaborn as sns\n",
    "import matplotlib.pyplot as plt\n",
    "from  matplotlib.ticker import PercentFormatter\n",
    "\n",
    "k1 = sns.catplot(x='Keras/TensorFlow', y='Topic', data=df, saturation=.5,\n",
    "                 kind=\"bar\", ci=None, aspect=.9, palette=\"Spectral\")\n",
    "k1.set_xticklabels(rotation=30)\n",
    "for ax in k1.axes.flat:\n",
    "    ax.xaxis.set_major_formatter(PercentFormatter(1))\n",
    "plt.title(\"%Accurate answers per topic for Keras model \")\n",
    "plt.grid(which='major', axis='both', color='paleturquoise', linestyle='--', linewidth=1)\n",
    "plt.show()"
   ]
  },
  {
   "cell_type": "code",
   "execution_count": 8,
   "metadata": {},
   "outputs": [
    {
     "data": {
      "image/png": "[encoded data removed]",
      "text/plain": [
       "<Figure size 324x360 with 1 Axes>"
      ]
     },
     "metadata": {
      "needs_background": "light"
     },
     "output_type": "display_data"
    }
   ],
   "source": [
    "import seaborn as sns\n",
    "import matplotlib.pyplot as plt\n",
    "from  matplotlib.ticker import PercentFormatter\n",
    "\n",
    "c1 = sns.catplot(x='Chatterbot', y='Topic', data=df, saturation=.5,\n",
    "                 kind=\"bar\", ci=None, aspect=.9, palette=\"Spectral\")\n",
    "c1.set_xticklabels(rotation=30)\n",
    "for ax in c1.axes.flat:\n",
    "    ax.xaxis.set_major_formatter(PercentFormatter(1))\n",
    "plt.title(\"%Accurate answers per topic for Chatterbot model \")\n",
    "plt.grid(which='major', axis='both', color='paleturquoise', linestyle='--', linewidth=1)\n",
    "plt.show()"
   ]
  },
  {
   "cell_type": "code",
   "execution_count": 9,
   "metadata": {},
   "outputs": [
    {
     "name": "stderr",
     "output_type": "stream",
     "text": [
      "C:\\Users\\Merti\\Anaconda3\\lib\\site-packages\\ipykernel_launcher.py:22: UserWarning: Matplotlib is currently using module://ipykernel.pylab.backend_inline, which is a non-GUI backend, so cannot show the figure.\n"
     ]
    },
    {
     "data": {
      "image/png": "[encoded data removed]",
      "text/plain": [
       "<Figure size 1080x576 with 2 Axes>"
      ]
     },
     "metadata": {
      "needs_background": "light"
     },
     "output_type": "display_data"
    }
   ],
   "source": [
    "import seaborn as sns\n",
    "import pandas as pd\n",
    "import matplotlib.pyplot as plt\n",
    "\n",
    "fig, ax =plt.subplots(1,2, figsize=(15, 8), sharex=True)\n",
    "\n",
    "c1=sns.barplot(x='Chatterbot', y='Topic', data=df, saturation=.5,ci=None, palette=\"Spectral\", ax=ax[0])\n",
    "k1=sns.barplot(x='Keras/TensorFlow', y='Topic', data=df, saturation=.5,ci=None, palette=\"Spectral\", ax=ax[1])\n",
    "#c1.set_xticklabels(rotation=30)\n",
    "#c1.xaxis.tick_top() \n",
    "#c1.xaxis.set_ticks_position('both')\n",
    "#k1.xaxis.tick_top() \n",
    "#k1.xaxis.set_ticks_position('both')\n",
    "c1.yaxis.tick_left() \n",
    "c1.yaxis.set_ticks_position('left')\n",
    "k1.yaxis.tick_right() \n",
    "k1.yaxis.set_ticks_position('right')\n",
    "fig.suptitle(\"Accurate answers from total per topic and chatbot model\", fontsize=\"xx-large\",weight=\"bold\")\n",
    "#plt.grid(which='major', axis='both', color='paleturquoise', linestyle='--', linewidth=1)\n",
    "#ax.xaxis.set_major_formatter(PercentFormatter(1)\n",
    "#plt.show()\n",
    "fig.show()"
   ]
  },
  {
   "cell_type": "markdown",
   "metadata": {},
   "source": [
    "c1=sns.catplot(x='Chatterbot', y='Topic', data=df, kind='bar',ci=None)\n",
    "c.set_xticklabels(rotation=30)"
   ]
  },
  {
   "cell_type": "markdown",
   "metadata": {},
   "source": [
    "c1=sns.catplot(x='Chatterbot', y='Topic', data=df, kind='bar')\n",
    "c.set_xticklabels(rotation=30)"
   ]
  },
  {
   "cell_type": "code",
   "execution_count": 10,
   "metadata": {},
   "outputs": [
    {
     "data": {
      "text/html": [
       "<div>\n",
       "<style scoped>\n",
       "    .dataframe tbody tr th:only-of-type {\n",
       "        vertical-align: middle;\n",
       "    }\n",
       "\n",
       "    .dataframe tbody tr th {\n",
       "        vertical-align: top;\n",
       "    }\n",
       "\n",
       "    .dataframe thead th {\n",
       "        text-align: right;\n",
       "    }\n",
       "</style>\n",
       "<table border=\"1\" class=\"dataframe\">\n",
       "  <thead>\n",
       "    <tr style=\"text-align: right;\">\n",
       "      <th></th>\n",
       "      <th>Keras/TensorFlow</th>\n",
       "      <th>Chatterbot</th>\n",
       "    </tr>\n",
       "    <tr>\n",
       "      <th>Type of question</th>\n",
       "      <th></th>\n",
       "      <th></th>\n",
       "    </tr>\n",
       "  </thead>\n",
       "  <tbody>\n",
       "    <tr>\n",
       "      <td>1 typo</td>\n",
       "      <td>13</td>\n",
       "      <td>10</td>\n",
       "    </tr>\n",
       "    <tr>\n",
       "      <td>2 typos</td>\n",
       "      <td>11</td>\n",
       "      <td>3</td>\n",
       "    </tr>\n",
       "    <tr>\n",
       "      <td>3 typos</td>\n",
       "      <td>11</td>\n",
       "      <td>2</td>\n",
       "    </tr>\n",
       "    <tr>\n",
       "      <td>completely diff</td>\n",
       "      <td>12</td>\n",
       "      <td>2</td>\n",
       "    </tr>\n",
       "    <tr>\n",
       "      <td>same from file</td>\n",
       "      <td>15</td>\n",
       "      <td>13</td>\n",
       "    </tr>\n",
       "    <tr>\n",
       "      <td>slightly diff</td>\n",
       "      <td>14</td>\n",
       "      <td>8</td>\n",
       "    </tr>\n",
       "  </tbody>\n",
       "</table>\n",
       "</div>"
      ],
      "text/plain": [
       "                  Keras/TensorFlow  Chatterbot\n",
       "Type of question                              \n",
       "1 typo                          13          10\n",
       "2 typos                         11           3\n",
       "3 typos                         11           2\n",
       "completely diff                 12           2\n",
       "same from file                  15          13\n",
       "slightly diff                   14           8"
      ]
     },
     "execution_count": 10,
     "metadata": {},
     "output_type": "execute_result"
    }
   ],
   "source": [
    "summary=df.groupby('Type of question').sum()\n",
    "summary"
   ]
  },
  {
   "cell_type": "code",
   "execution_count": 16,
   "metadata": {},
   "outputs": [
    {
     "data": {
      "text/html": [
       "<div>\n",
       "<style scoped>\n",
       "    .dataframe tbody tr th:only-of-type {\n",
       "        vertical-align: middle;\n",
       "    }\n",
       "\n",
       "    .dataframe tbody tr th {\n",
       "        vertical-align: top;\n",
       "    }\n",
       "\n",
       "    .dataframe thead th {\n",
       "        text-align: right;\n",
       "    }\n",
       "</style>\n",
       "<table border=\"1\" class=\"dataframe\">\n",
       "  <thead>\n",
       "    <tr style=\"text-align: right;\">\n",
       "      <th></th>\n",
       "      <th>Keras/TensorFlow</th>\n",
       "      <th>Chatterbot</th>\n",
       "      <th>Total</th>\n",
       "      <th>PercofTotal_Keras</th>\n",
       "      <th>PercofTotal_Chatterbot</th>\n",
       "    </tr>\n",
       "    <tr>\n",
       "      <th>Type of question</th>\n",
       "      <th></th>\n",
       "      <th></th>\n",
       "      <th></th>\n",
       "      <th></th>\n",
       "      <th></th>\n",
       "    </tr>\n",
       "  </thead>\n",
       "  <tbody>\n",
       "    <tr>\n",
       "      <td>1 typo</td>\n",
       "      <td>13</td>\n",
       "      <td>10</td>\n",
       "      <td>15</td>\n",
       "      <td>86.666667</td>\n",
       "      <td>66.666667</td>\n",
       "    </tr>\n",
       "    <tr>\n",
       "      <td>2 typos</td>\n",
       "      <td>11</td>\n",
       "      <td>3</td>\n",
       "      <td>15</td>\n",
       "      <td>73.333333</td>\n",
       "      <td>20.000000</td>\n",
       "    </tr>\n",
       "    <tr>\n",
       "      <td>3 typos</td>\n",
       "      <td>11</td>\n",
       "      <td>2</td>\n",
       "      <td>15</td>\n",
       "      <td>73.333333</td>\n",
       "      <td>13.333333</td>\n",
       "    </tr>\n",
       "    <tr>\n",
       "      <td>completely diff</td>\n",
       "      <td>12</td>\n",
       "      <td>2</td>\n",
       "      <td>15</td>\n",
       "      <td>80.000000</td>\n",
       "      <td>13.333333</td>\n",
       "    </tr>\n",
       "    <tr>\n",
       "      <td>same from file</td>\n",
       "      <td>15</td>\n",
       "      <td>13</td>\n",
       "      <td>15</td>\n",
       "      <td>100.000000</td>\n",
       "      <td>86.666667</td>\n",
       "    </tr>\n",
       "    <tr>\n",
       "      <td>slightly diff</td>\n",
       "      <td>14</td>\n",
       "      <td>8</td>\n",
       "      <td>15</td>\n",
       "      <td>93.333333</td>\n",
       "      <td>53.333333</td>\n",
       "    </tr>\n",
       "  </tbody>\n",
       "</table>\n",
       "</div>"
      ],
      "text/plain": [
       "                  Keras/TensorFlow  Chatterbot  Total  PercofTotal_Keras  \\\n",
       "Type of question                                                           \n",
       "1 typo                          13          10     15          86.666667   \n",
       "2 typos                         11           3     15          73.333333   \n",
       "3 typos                         11           2     15          73.333333   \n",
       "completely diff                 12           2     15          80.000000   \n",
       "same from file                  15          13     15         100.000000   \n",
       "slightly diff                   14           8     15          93.333333   \n",
       "\n",
       "                  PercofTotal_Chatterbot  \n",
       "Type of question                          \n",
       "1 typo                         66.666667  \n",
       "2 typos                        20.000000  \n",
       "3 typos                        13.333333  \n",
       "completely diff                13.333333  \n",
       "same from file                 86.666667  \n",
       "slightly diff                  53.333333  "
      ]
     },
     "execution_count": 16,
     "metadata": {},
     "output_type": "execute_result"
    }
   ],
   "source": [
    "summary=df.groupby('Type of question').sum()\n",
    "summary['Total']=15\n",
    "summary['PercofTotal_Keras']=summary['Keras/TensorFlow']/summary['Total']*100\n",
    "summary['PercofTotal_Chatterbot']=summary['Chatterbot']/summary['Total']*100\n",
    "new=summary\n",
    "new"
   ]
  },
  {
   "cell_type": "code",
   "execution_count": 18,
   "metadata": {},
   "outputs": [],
   "source": [
    "new.drop('Keras/TensorFlow',inplace=True, axis=1) \n",
    "new.drop('Chatterbot',inplace=True, axis=1)\n",
    "new.drop('Total',inplace=True, axis=1)"
   ]
  },
  {
   "cell_type": "code",
   "execution_count": 19,
   "metadata": {},
   "outputs": [
    {
     "data": {
      "text/html": [
       "<div>\n",
       "<style scoped>\n",
       "    .dataframe tbody tr th:only-of-type {\n",
       "        vertical-align: middle;\n",
       "    }\n",
       "\n",
       "    .dataframe tbody tr th {\n",
       "        vertical-align: top;\n",
       "    }\n",
       "\n",
       "    .dataframe thead th {\n",
       "        text-align: right;\n",
       "    }\n",
       "</style>\n",
       "<table border=\"1\" class=\"dataframe\">\n",
       "  <thead>\n",
       "    <tr style=\"text-align: right;\">\n",
       "      <th></th>\n",
       "      <th>PercofTotal_Keras</th>\n",
       "      <th>PercofTotal_Chatterbot</th>\n",
       "    </tr>\n",
       "    <tr>\n",
       "      <th>Type of question</th>\n",
       "      <th></th>\n",
       "      <th></th>\n",
       "    </tr>\n",
       "  </thead>\n",
       "  <tbody>\n",
       "    <tr>\n",
       "      <td>1 typo</td>\n",
       "      <td>86.666667</td>\n",
       "      <td>66.666667</td>\n",
       "    </tr>\n",
       "    <tr>\n",
       "      <td>2 typos</td>\n",
       "      <td>73.333333</td>\n",
       "      <td>20.000000</td>\n",
       "    </tr>\n",
       "    <tr>\n",
       "      <td>3 typos</td>\n",
       "      <td>73.333333</td>\n",
       "      <td>13.333333</td>\n",
       "    </tr>\n",
       "    <tr>\n",
       "      <td>completely diff</td>\n",
       "      <td>80.000000</td>\n",
       "      <td>13.333333</td>\n",
       "    </tr>\n",
       "    <tr>\n",
       "      <td>same from file</td>\n",
       "      <td>100.000000</td>\n",
       "      <td>86.666667</td>\n",
       "    </tr>\n",
       "    <tr>\n",
       "      <td>slightly diff</td>\n",
       "      <td>93.333333</td>\n",
       "      <td>53.333333</td>\n",
       "    </tr>\n",
       "  </tbody>\n",
       "</table>\n",
       "</div>"
      ],
      "text/plain": [
       "                  PercofTotal_Keras  PercofTotal_Chatterbot\n",
       "Type of question                                           \n",
       "1 typo                    86.666667               66.666667\n",
       "2 typos                   73.333333               20.000000\n",
       "3 typos                   73.333333               13.333333\n",
       "completely diff           80.000000               13.333333\n",
       "same from file           100.000000               86.666667\n",
       "slightly diff             93.333333               53.333333"
      ]
     },
     "execution_count": 19,
     "metadata": {},
     "output_type": "execute_result"
    }
   ],
   "source": [
    "new"
   ]
  },
  {
   "cell_type": "code",
   "execution_count": 79,
   "metadata": {},
   "outputs": [
    {
     "data": {
      "image/png": "[encoded data removed]",
      "text/plain": [
       "<Figure size 648x432 with 1 Axes>"
      ]
     },
     "metadata": {
      "needs_background": "light"
     },
     "output_type": "display_data"
    }
   ],
   "source": [
    "import matplotlib\n",
    "import matplotlib.pyplot as plt\n",
    "import numpy as np\n",
    "\n",
    "Keras = (100,93.3,80,86.6,73.3,73.3)\n",
    "Chatterbot = (86.6,53.3,13.3,66.6,20,13.3)\n",
    "\n",
    "ind = np.arange(len(Keras))  # the x locations for the groups\n",
    "width = 0.35  # the width of the bars\n",
    "\n",
    "fig, ax = plt.subplots(figsize=(9,6))\n",
    "rects1 = ax.bar(ind - width/2, Keras, width, label='Keras',color='#2300A8')\n",
    "rects2 = ax.bar(ind + width/2, Chatterbot, width, label=\"Chatterbot\", color='#00A658')\n",
    "\n",
    "# Add some text for labels, title and custom x-axis tick labels, etc.\n",
    "ax.set_ylabel('% Correct answers')\n",
    "ax.set_title('% accurate answers from total based on type of test and model',weight=\"bold\")\n",
    "ax.set_xticks(ind)\n",
    "ax.set_xticklabels(('same from file', 'slightly diff', 'completely diff', '1 typo', '2 typos','3 typos'),rotation=30)\n",
    "ax.legend(loc='upper center')\n",
    "\n",
    "def autolabel(rects, xpos='center'):\n",
    "    \"\"\"\n",
    "    Attach a text label above each bar in *rects*, displaying its height.\n",
    "\n",
    "    *xpos* indicates which side to place the text w.r.t. the center of\n",
    "    the bar. It can be one of the following {'center', 'right', 'left'}.\n",
    "    \"\"\"\n",
    "\n",
    "    ha = {'center': 'center', 'right': 'left', 'left': 'right'}\n",
    "    offset = {'center': 0, 'right': 1, 'left': -1}\n",
    "\n",
    "    for rect in rects:\n",
    "        height = rect.get_height()\n",
    "        ax.annotate('{}'.format(height),\n",
    "                    xy=(rect.get_x() + rect.get_width() / 2, height),\n",
    "                    xytext=(offset[xpos]*3, 3),  # use 3 points offset\n",
    "                    textcoords=\"offset points\",  # in both directions\n",
    "                    ha=ha[xpos], va='bottom')\n",
    "\n",
    "\n",
    "autolabel(rects1, \"left\")\n",
    "autolabel(rects2, \"right\")\n",
    "\n",
    "fig.tight_layout()\n",
    "\n",
    "plt.show()"
   ]
  },
  {
   "cell_type": "markdown",
   "metadata": {},
   "source": [
    "import matplotlib.pyplot as plt\n",
    "\n",
    "\n",
    "labels = ['1 typo', '2 typos', '3 typos', 'completely diff', 'same from file','slightly diff']\n",
    "Keras = new['PercofTotal_Keras']\n",
    "Chatterbot = new['PercofTotal_Chatterbot']\n",
    "#men_std = [2, 3, 4, 1, 2]\n",
    "#women_std = [3, 5, 2, 3, 3]\n",
    "width = 0.35       # the width of the bars: can also be len(x) sequence\n",
    "\n",
    "fig, ax = plt.subplots()\n",
    "\n",
    "ax.bar(labels, Keras, width, label='Keras')\n",
    "ax.bar(labels, Chatterbot, width, bottom=Keras,\n",
    "       label='Chatterbot')\n",
    "\n",
    "ax.set_ylabel('Scores')\n",
    "ax.set_title('Scores by group and gender')\n",
    "ax.legend()\n",
    "\n",
    "plt.show()"
   ]
  },
  {
   "cell_type": "markdown",
   "metadata": {},
   "source": [
    "import matplotlib.pyplot as plt\n",
    "import numpy as np\n",
    "\n",
    "width = 0.8\n",
    "\n",
    "Keras = new['PercofTotal_Keras']\n",
    "Chatterbot = new['PercofTotal_Chatterbot']\n",
    "labels = ['1 typo', '2 typos', '3 typos', 'completely diff', 'same from file','slightly diff']\n",
    "indices = np.arange(len(Keras))\n",
    "#indices=['1 typo', '2 typos', '3 typos', 'completely diff', 'same from file','slightly diff']\n",
    "plt.bar(indices, Keras, width=width, \n",
    "        color='b', label='Keras')\n",
    "plt.bar([i+0.25*width for i in indices], Chatterbot, \n",
    "        width=0.5*width, color='r', alpha=0.5, label='Chatterbot')\n",
    "\n",
    "plt.xticks(indices+width/2., \n",
    "           ['T{}'.format(i) for i in range(len(Keras))] )\n",
    "\n",
    "plt.legend()\n",
    "\n",
    "plt.show()"
   ]
  },
  {
   "cell_type": "code",
   "execution_count": 14,
   "metadata": {},
   "outputs": [
    {
     "data": {
      "text/html": [
       "<div>\n",
       "<style scoped>\n",
       "    .dataframe tbody tr th:only-of-type {\n",
       "        vertical-align: middle;\n",
       "    }\n",
       "\n",
       "    .dataframe tbody tr th {\n",
       "        vertical-align: top;\n",
       "    }\n",
       "\n",
       "    .dataframe thead th {\n",
       "        text-align: right;\n",
       "    }\n",
       "</style>\n",
       "<table border=\"1\" class=\"dataframe\">\n",
       "  <thead>\n",
       "    <tr style=\"text-align: right;\">\n",
       "      <th></th>\n",
       "      <th>Keras/TensorFlow</th>\n",
       "      <th>Chatterbot</th>\n",
       "    </tr>\n",
       "    <tr>\n",
       "      <th>Type of question</th>\n",
       "      <th></th>\n",
       "      <th></th>\n",
       "    </tr>\n",
       "  </thead>\n",
       "  <tbody>\n",
       "    <tr>\n",
       "      <td>1 typo</td>\n",
       "      <td>0.866667</td>\n",
       "      <td>0.666667</td>\n",
       "    </tr>\n",
       "    <tr>\n",
       "      <td>2 typos</td>\n",
       "      <td>0.733333</td>\n",
       "      <td>0.200000</td>\n",
       "    </tr>\n",
       "    <tr>\n",
       "      <td>3 typos</td>\n",
       "      <td>0.733333</td>\n",
       "      <td>0.133333</td>\n",
       "    </tr>\n",
       "    <tr>\n",
       "      <td>completely diff</td>\n",
       "      <td>0.800000</td>\n",
       "      <td>0.133333</td>\n",
       "    </tr>\n",
       "    <tr>\n",
       "      <td>same from file</td>\n",
       "      <td>1.000000</td>\n",
       "      <td>0.866667</td>\n",
       "    </tr>\n",
       "    <tr>\n",
       "      <td>slightly diff</td>\n",
       "      <td>0.933333</td>\n",
       "      <td>0.533333</td>\n",
       "    </tr>\n",
       "  </tbody>\n",
       "</table>\n",
       "</div>"
      ],
      "text/plain": [
       "                  Keras/TensorFlow  Chatterbot\n",
       "Type of question                              \n",
       "1 typo                    0.866667    0.666667\n",
       "2 typos                   0.733333    0.200000\n",
       "3 typos                   0.733333    0.133333\n",
       "completely diff           0.800000    0.133333\n",
       "same from file            1.000000    0.866667\n",
       "slightly diff             0.933333    0.533333"
      ]
     },
     "execution_count": 14,
     "metadata": {},
     "output_type": "execute_result"
    }
   ],
   "source": [
    "df.groupby('Type of question').mean()"
   ]
  },
  {
   "cell_type": "code",
   "execution_count": null,
   "metadata": {},
   "outputs": [],
   "source": []
  },
  {
   "cell_type": "code",
   "execution_count": 15,
   "metadata": {},
   "outputs": [
    {
     "data": {
      "text/html": [
       "<div>\n",
       "<style scoped>\n",
       "    .dataframe tbody tr th:only-of-type {\n",
       "        vertical-align: middle;\n",
       "    }\n",
       "\n",
       "    .dataframe tbody tr th {\n",
       "        vertical-align: top;\n",
       "    }\n",
       "\n",
       "    .dataframe thead th {\n",
       "        text-align: right;\n",
       "    }\n",
       "</style>\n",
       "<table border=\"1\" class=\"dataframe\">\n",
       "  <thead>\n",
       "    <tr style=\"text-align: right;\">\n",
       "      <th></th>\n",
       "      <th>Keras/TensorFlow</th>\n",
       "      <th>Chatterbot</th>\n",
       "    </tr>\n",
       "    <tr>\n",
       "      <th>Topic</th>\n",
       "      <th></th>\n",
       "      <th></th>\n",
       "    </tr>\n",
       "  </thead>\n",
       "  <tbody>\n",
       "    <tr>\n",
       "      <td>change payment method</td>\n",
       "      <td>1.000000</td>\n",
       "      <td>0.333333</td>\n",
       "    </tr>\n",
       "    <tr>\n",
       "      <td>find invoice</td>\n",
       "      <td>1.000000</td>\n",
       "      <td>0.500000</td>\n",
       "    </tr>\n",
       "    <tr>\n",
       "      <td>greeting</td>\n",
       "      <td>0.333333</td>\n",
       "      <td>0.166667</td>\n",
       "    </tr>\n",
       "    <tr>\n",
       "      <td>help</td>\n",
       "      <td>1.000000</td>\n",
       "      <td>0.500000</td>\n",
       "    </tr>\n",
       "    <tr>\n",
       "      <td>identification</td>\n",
       "      <td>0.833333</td>\n",
       "      <td>0.500000</td>\n",
       "    </tr>\n",
       "    <tr>\n",
       "      <td>input correct amount</td>\n",
       "      <td>0.666667</td>\n",
       "      <td>0.500000</td>\n",
       "    </tr>\n",
       "    <tr>\n",
       "      <td>input correct details</td>\n",
       "      <td>0.833333</td>\n",
       "      <td>0.500000</td>\n",
       "    </tr>\n",
       "    <tr>\n",
       "      <td>input correct due date</td>\n",
       "      <td>0.833333</td>\n",
       "      <td>0.333333</td>\n",
       "    </tr>\n",
       "    <tr>\n",
       "      <td>invoice has wrong amount</td>\n",
       "      <td>0.500000</td>\n",
       "      <td>0.333333</td>\n",
       "    </tr>\n",
       "    <tr>\n",
       "      <td>invoice has wrong details</td>\n",
       "      <td>1.000000</td>\n",
       "      <td>0.500000</td>\n",
       "    </tr>\n",
       "    <tr>\n",
       "      <td>invoice has wrong due date</td>\n",
       "      <td>0.666667</td>\n",
       "      <td>0.500000</td>\n",
       "    </tr>\n",
       "    <tr>\n",
       "      <td>invoice is wrong</td>\n",
       "      <td>1.000000</td>\n",
       "      <td>0.333333</td>\n",
       "    </tr>\n",
       "    <tr>\n",
       "      <td>pay invoice</td>\n",
       "      <td>1.000000</td>\n",
       "      <td>0.500000</td>\n",
       "    </tr>\n",
       "    <tr>\n",
       "      <td>talk to a human agent</td>\n",
       "      <td>1.000000</td>\n",
       "      <td>0.500000</td>\n",
       "    </tr>\n",
       "    <tr>\n",
       "      <td>thank you/goodbye</td>\n",
       "      <td>1.000000</td>\n",
       "      <td>0.333333</td>\n",
       "    </tr>\n",
       "  </tbody>\n",
       "</table>\n",
       "</div>"
      ],
      "text/plain": [
       "                            Keras/TensorFlow  Chatterbot\n",
       "Topic                                                   \n",
       "change payment method               1.000000    0.333333\n",
       "find invoice                        1.000000    0.500000\n",
       "greeting                            0.333333    0.166667\n",
       "help                                1.000000    0.500000\n",
       "identification                      0.833333    0.500000\n",
       "input correct amount                0.666667    0.500000\n",
       "input correct details               0.833333    0.500000\n",
       "input correct due date              0.833333    0.333333\n",
       "invoice has wrong amount            0.500000    0.333333\n",
       "invoice has wrong details           1.000000    0.500000\n",
       "invoice has wrong due date          0.666667    0.500000\n",
       "invoice is wrong                    1.000000    0.333333\n",
       "pay invoice                         1.000000    0.500000\n",
       "talk to a human agent               1.000000    0.500000\n",
       "thank you/goodbye                   1.000000    0.333333"
      ]
     },
     "execution_count": 15,
     "metadata": {},
     "output_type": "execute_result"
    }
   ],
   "source": [
    "df.groupby('Topic').mean()"
   ]
  },
  {
   "cell_type": "markdown",
   "metadata": {},
   "source": [
    "df.groupby(['Type of question','Topic']).sum()"
   ]
  },
  {
   "cell_type": "code",
   "execution_count": null,
   "metadata": {},
   "outputs": [],
   "source": []
  }
 ],
 "metadata": {
  "kernelspec": {
   "display_name": "Python 3",
   "language": "python",
   "name": "python3"
  },
  "language_info": {
   "codemirror_mode": {
    "name": "ipython",
    "version": 3
   },
   "file_extension": ".py",
   "mimetype": "text/x-python",
   "name": "python",
   "nbconvert_exporter": "python",
   "pygments_lexer": "ipython3",
   "version": "3.7.4"
  }
 },
 "nbformat": 4,
 "nbformat_minor": 2
}
