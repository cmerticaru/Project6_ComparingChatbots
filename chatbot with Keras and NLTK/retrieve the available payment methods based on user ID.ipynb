{
 "cells": [
  {
   "cell_type": "code",
   "execution_count": 1,
   "metadata": {},
   "outputs": [],
   "source": [
    "import pyforest\n",
    "from pyforest import *\n",
    "import csv"
   ]
  },
  {
   "cell_type": "markdown",
   "metadata": {},
   "source": [
    "#### We read the excel file where we have created the dummy database with user IDs, names, countries and Payment methods"
   ]
  },
  {
   "cell_type": "code",
   "execution_count": 2,
   "metadata": {},
   "outputs": [],
   "source": [
    "users=pd.read_excel('dummy_database1.xlsx')"
   ]
  },
  {
   "cell_type": "markdown",
   "metadata": {},
   "source": [
    "here we request the user ID to be inputted by the user, and check that the ID is one found in the dummy database. if the id is not found a message is displayed to insert the correct ID"
   ]
  },
  {
   "cell_type": "code",
   "execution_count": 3,
   "metadata": {},
   "outputs": [
    {
     "name": "stdout",
     "output_type": "stream",
     "text": [
      "Hello! Please provide your User ID so that I can check your available payment methods23\n"
     ]
    }
   ],
   "source": [
    "user_input = str(input(\"Hello! Please provide your User ID so that I can check your available payment methods\"))\n",
    "user=users.ID.isin([user_input]).any()\n",
    "if user == True:\n",
    "    users_new = users.query(\"ID == @user_input\")\n",
    "    new=users_new.index.tolist()\n",
    "else:\n",
    "            print(str(input(\"This is not an accepted user ID, please insert the correct user ID and try again\")))"
   ]
  },
  {
   "cell_type": "markdown",
   "metadata": {},
   "source": [
    "this is the step where the row corresponding to the user ID inputted by the user is retrieved, with all the corresponding data"
   ]
  },
  {
   "cell_type": "code",
   "execution_count": 4,
   "metadata": {},
   "outputs": [
    {
     "name": "stdout",
     "output_type": "stream",
     "text": [
      "    ID                       Country    Name  Credit Card  Bank Transfer  \\\n",
      "22  23  Dubai, United Arab Emirates   Mariam            1              0   \n",
      "\n",
      "    Automated payment  Correct Billing details  Correct Amount  \\\n",
      "22                  1                      NaN             NaN   \n",
      "\n",
      "    Correct Due Date  \n",
      "22               NaN  \n"
     ]
    }
   ],
   "source": [
    "selected_user = users.iloc[new]\n",
    "print(selected_user)"
   ]
  },
  {
   "cell_type": "markdown",
   "metadata": {},
   "source": [
    "in this next step we only check the 3 columns related to payment methods of the user ID inputted, and retrieve the available payment methods (that have a 1 written in the database), or an error saying that there are no payment methods available (where all the values in the columns are 0s)"
   ]
  },
  {
   "cell_type": "code",
   "execution_count": 5,
   "metadata": {},
   "outputs": [
    {
     "name": "stdout",
     "output_type": "stream",
     "text": [
      "Your available payment methods are:      Credit Card  Automated payment\n",
      "22            1                  1\n"
     ]
    }
   ],
   "source": [
    "columns=selected_user[['Credit Card','Bank Transfer','Automated payment']]\n",
    "validonly=columns.loc[:, (columns != 0).any(axis=0)]\n",
    "for z in validonly.values:\n",
    "    if (z==1).any(): \n",
    "        print('Your available payment methods are: ', validonly)\n",
    "    else:\n",
    "        print(\"For your profile no payment methods are currently available\")"
   ]
  },
  {
   "cell_type": "markdown",
   "metadata": {},
   "source": [
    "#print(onlyvalid)\n",
    "print(onlyvalid.iloc[0])"
   ]
  },
  {
   "cell_type": "markdown",
   "metadata": {},
   "source": [
    "columns=selected_user[['Credit Card','Bank Transfer','Automated payment']]\n",
    "columns.dropna()"
   ]
  },
  {
   "cell_type": "markdown",
   "metadata": {},
   "source": [
    "onlyvalid=columns.loc[:, (columns != 0).any(axis=0)]\n",
    "onlyvalid"
   ]
  },
  {
   "cell_type": "markdown",
   "metadata": {},
   "source": [
    "columns=selected_user[['Credit Card','Bank Transfer','Automated payment']]\n",
    "onlyvalid=columns.loc[:, (columns != 0).any(axis=0)]\n",
    "for z in onlyvalid.values:\n",
    "    if (z==1).any(): \n",
    "        print('Your available payment methods are: ', onlyvalid.iloc[0])\n",
    "    else:\n",
    "        print(\"For your profile no payment methods are currently available\")"
   ]
  },
  {
   "cell_type": "markdown",
   "metadata": {},
   "source": [
    "#this is only retrieving the columns that have 1 as value, and removing the column where 0 is a value\n",
    "onlyvalid=columns.loc[:, (columns != 0).any(axis=0)]\n",
    "print(onlyvalid)"
   ]
  },
  {
   "cell_type": "markdown",
   "metadata": {},
   "source": [
    "#this is retrieving all columns regardless where there is 0 or 1 as a value\n",
    "columns\n",
    "print(columns)"
   ]
  },
  {
   "cell_type": "markdown",
   "metadata": {},
   "source": [
    "def chatbot_response(text):\n",
    "    ints = predict_class(text, model)\n",
    "    res = getResponse(ints, intents)\n",
    "    return res"
   ]
  },
  {
   "cell_type": "markdown",
   "metadata": {},
   "source": [
    "def user_in(user_input):\n",
    "    users=pd.read_excel('dummy_database1.xlsx')\n",
    "    user_input = str(input(\"Hello! Please provide your User ID so that I can check your available payment methods\"))\n",
    "    user=users.ID.isin([user_input]).any()\n",
    "    if user == True:\n",
    "            users_new = users.query(\"ID == @user_input\")\n",
    "            new=users_new.index.tolist()\n",
    "    else:\n",
    "            print(str(input(\"This is not an accepted user ID, please insert the correct user ID and try again\")))\n",
    "    \n",
    "def pmt_mtd(user_in):    \n",
    "    selected_user = users.iloc[new]\n",
    "    columns=selected_user[['Credit Card','Bank Transfer','Automated payment']]\n",
    "    validonly=columns.loc[:, (columns != 0).any(axis=0)]\n",
    "    for z in validonly.values:\n",
    "            if (z==1).any(): \n",
    "                print('Your available payment methods are: ', validonly)\n",
    "            else:\n",
    "                print(\"For your profile no payment methods are currently available\")\n",
    "    return pmt_mtd"
   ]
  },
  {
   "cell_type": "code",
   "execution_count": 12,
   "metadata": {},
   "outputs": [],
   "source": [
    "def user_in(user_input):\n",
    "    users=pd.read_excel('dummy_database1.xlsx')\n",
    "    user_input = str(input(\"Hello! Please provide your User ID so that I can check your available payment methods\"))\n",
    "    user=users.ID.isin([user_input]).any()\n",
    "    if user == True:\n",
    "            users_new = users.query(\"ID == @user_input\")\n",
    "            new=users_new.index.tolist()\n",
    "    else:\n",
    "            print(str(input(\"This is not an accepted user ID, please insert the correct user ID and try again\")))   \n",
    "    selected_user = users.iloc[new]\n",
    "    columns=selected_user[['Credit Card','Bank Transfer','Automated payment']]\n",
    "    validonly=columns.loc[:, (columns != 0).any(axis=0)]\n",
    "    for z in validonly.values:\n",
    "            if (z==1).any(): \n",
    "                print('Your available payment methods are: ', validonly, 'You can process your payment from here ...')\n",
    "            else:\n",
    "                print(\"For your profile no payment methods are currently available\")"
   ]
  },
  {
   "cell_type": "code",
   "execution_count": 13,
   "metadata": {},
   "outputs": [
    {
     "name": "stdout",
     "output_type": "stream",
     "text": [
      "Hello! Please provide your User ID so that I can check your available payment methods18\n",
      "Your available payment methods are:      Automated payment\n",
      "17                  1 You can process your payment from here ...\n"
     ]
    }
   ],
   "source": [
    "user_in(1)"
   ]
  },
  {
   "cell_type": "markdown",
   "metadata": {},
   "source": []
  }
 ],
 "metadata": {
  "kernelspec": {
   "display_name": "Python 3",
   "language": "python",
   "name": "python3"
  },
  "language_info": {
   "codemirror_mode": {
    "name": "ipython",
    "version": 3
   },
   "file_extension": ".py",
   "mimetype": "text/x-python",
   "name": "python",
   "nbconvert_exporter": "python",
   "pygments_lexer": "ipython3",
   "version": "3.7.4"
  }
 },
 "nbformat": 4,
 "nbformat_minor": 2
}
